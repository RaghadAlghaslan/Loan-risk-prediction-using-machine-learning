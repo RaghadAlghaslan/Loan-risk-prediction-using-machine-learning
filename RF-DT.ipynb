{
 "cells": [
  {
   "cell_type": "code",
   "execution_count": 1,
   "id": "1bf8ac53-7eac-45b6-b4f8-96e8c57632ee",
   "metadata": {},
   "outputs": [],
   "source": [
    "# Loading necessary libraries\n",
    "import pandas as pd\n",
    "import numpy as np\n",
    "import sklearn\n",
    "from sklearn import preprocessing\n",
    "from sklearn.ensemble import RandomForestClassifier\n",
    "from sklearn.model_selection import train_test_split \n",
    "from sklearn.metrics import accuracy_score\n",
    "from sklearn.preprocessing import LabelEncoder\n",
    "from imblearn.under_sampling import RandomUnderSampler\n",
    "from sklearn.tree import DecisionTreeClassifier\n",
    "from sklearn.model_selection import cross_val_score\n",
    "from imblearn.over_sampling import SMOTE"
   ]
  },
  {
   "cell_type": "code",
   "execution_count": 2,
   "id": "6d1d4823-1631-4c3d-95ef-07c0950fd5e4",
   "metadata": {},
   "outputs": [],
   "source": [
    "df = pd.read_csv('Training Data.csv')"
   ]
  },
  {
   "cell_type": "markdown",
   "id": "1b8404de-0b2d-4a50-a1cf-5a79d237c22c",
   "metadata": {},
   "source": [
    "## Model training\r\n",
    "##### since the class label is imbalanced and the dataset is large, then some of the suitable algorithems ar:\n",
    "- Decision Treee (as a baseline, can handle imbalance data because they make splits based on the information gain.\n",
    "-  Random Forest (can handle class imbalance by using bootstrap aggregating (bagging)) which are going to be the models in subject\r\n"
   ]
  },
  {
   "cell_type": "code",
   "execution_count": 3,
   "id": "88997f32-153d-42cf-b1d4-deeca8a167e7",
   "metadata": {},
   "outputs": [
    {
     "data": {
      "text/html": [
       "<div>\n",
       "<style scoped>\n",
       "    .dataframe tbody tr th:only-of-type {\n",
       "        vertical-align: middle;\n",
       "    }\n",
       "\n",
       "    .dataframe tbody tr th {\n",
       "        vertical-align: top;\n",
       "    }\n",
       "\n",
       "    .dataframe thead th {\n",
       "        text-align: right;\n",
       "    }\n",
       "</style>\n",
       "<table border=\"1\" class=\"dataframe\">\n",
       "  <thead>\n",
       "    <tr style=\"text-align: right;\">\n",
       "      <th></th>\n",
       "      <th>Id</th>\n",
       "      <th>Income</th>\n",
       "      <th>Age</th>\n",
       "      <th>Experience</th>\n",
       "      <th>Married/Single</th>\n",
       "      <th>House_Ownership</th>\n",
       "      <th>Car_Ownership</th>\n",
       "      <th>Profession</th>\n",
       "      <th>CITY</th>\n",
       "      <th>STATE</th>\n",
       "      <th>CURRENT_JOB_YRS</th>\n",
       "      <th>CURRENT_HOUSE_YRS</th>\n",
       "      <th>Risk_Flag</th>\n",
       "    </tr>\n",
       "  </thead>\n",
       "  <tbody>\n",
       "    <tr>\n",
       "      <th>0</th>\n",
       "      <td>1</td>\n",
       "      <td>1303834</td>\n",
       "      <td>23</td>\n",
       "      <td>3</td>\n",
       "      <td>single</td>\n",
       "      <td>rented</td>\n",
       "      <td>no</td>\n",
       "      <td>Mechanical_engineer</td>\n",
       "      <td>Rewa</td>\n",
       "      <td>Madhya_Pradesh</td>\n",
       "      <td>3</td>\n",
       "      <td>13</td>\n",
       "      <td>0</td>\n",
       "    </tr>\n",
       "    <tr>\n",
       "      <th>1</th>\n",
       "      <td>2</td>\n",
       "      <td>7574516</td>\n",
       "      <td>40</td>\n",
       "      <td>10</td>\n",
       "      <td>single</td>\n",
       "      <td>rented</td>\n",
       "      <td>no</td>\n",
       "      <td>Software_Developer</td>\n",
       "      <td>Parbhani</td>\n",
       "      <td>Maharashtra</td>\n",
       "      <td>9</td>\n",
       "      <td>13</td>\n",
       "      <td>0</td>\n",
       "    </tr>\n",
       "    <tr>\n",
       "      <th>2</th>\n",
       "      <td>3</td>\n",
       "      <td>3991815</td>\n",
       "      <td>66</td>\n",
       "      <td>4</td>\n",
       "      <td>married</td>\n",
       "      <td>rented</td>\n",
       "      <td>no</td>\n",
       "      <td>Technical_writer</td>\n",
       "      <td>Alappuzha</td>\n",
       "      <td>Kerala</td>\n",
       "      <td>4</td>\n",
       "      <td>10</td>\n",
       "      <td>0</td>\n",
       "    </tr>\n",
       "    <tr>\n",
       "      <th>3</th>\n",
       "      <td>4</td>\n",
       "      <td>6256451</td>\n",
       "      <td>41</td>\n",
       "      <td>2</td>\n",
       "      <td>single</td>\n",
       "      <td>rented</td>\n",
       "      <td>yes</td>\n",
       "      <td>Software_Developer</td>\n",
       "      <td>Bhubaneswar</td>\n",
       "      <td>Odisha</td>\n",
       "      <td>2</td>\n",
       "      <td>12</td>\n",
       "      <td>1</td>\n",
       "    </tr>\n",
       "    <tr>\n",
       "      <th>4</th>\n",
       "      <td>5</td>\n",
       "      <td>5768871</td>\n",
       "      <td>47</td>\n",
       "      <td>11</td>\n",
       "      <td>single</td>\n",
       "      <td>rented</td>\n",
       "      <td>no</td>\n",
       "      <td>Civil_servant</td>\n",
       "      <td>Tiruchirappalli[10]</td>\n",
       "      <td>Tamil_Nadu</td>\n",
       "      <td>3</td>\n",
       "      <td>14</td>\n",
       "      <td>1</td>\n",
       "    </tr>\n",
       "  </tbody>\n",
       "</table>\n",
       "</div>"
      ],
      "text/plain": [
       "   Id   Income  Age  Experience Married/Single House_Ownership Car_Ownership  \\\n",
       "0   1  1303834   23           3         single          rented            no   \n",
       "1   2  7574516   40          10         single          rented            no   \n",
       "2   3  3991815   66           4        married          rented            no   \n",
       "3   4  6256451   41           2         single          rented           yes   \n",
       "4   5  5768871   47          11         single          rented            no   \n",
       "\n",
       "            Profession                 CITY           STATE  CURRENT_JOB_YRS  \\\n",
       "0  Mechanical_engineer                 Rewa  Madhya_Pradesh                3   \n",
       "1   Software_Developer             Parbhani     Maharashtra                9   \n",
       "2     Technical_writer            Alappuzha          Kerala                4   \n",
       "3   Software_Developer          Bhubaneswar          Odisha                2   \n",
       "4        Civil_servant  Tiruchirappalli[10]      Tamil_Nadu                3   \n",
       "\n",
       "   CURRENT_HOUSE_YRS  Risk_Flag  \n",
       "0                 13          0  \n",
       "1                 13          0  \n",
       "2                 10          0  \n",
       "3                 12          1  \n",
       "4                 14          1  "
      ]
     },
     "execution_count": 3,
     "metadata": {},
     "output_type": "execute_result"
    }
   ],
   "source": [
    "# viewing the data set after the preprocessing\n",
    "df.head()"
   ]
  },
  {
   "cell_type": "code",
   "execution_count": 4,
   "id": "88d6e2d6-8a90-46e3-a11f-b5f81fd12c43",
   "metadata": {},
   "outputs": [],
   "source": [
    "# Encoding Categorical Data into different data frame to be able to scale models\n",
    "encoder = LabelEncoder()\n",
    "categorical = ['Married/Single','House_Ownership','Car_Ownership','Profession', 'CITY', 'STATE']\n",
    "for cols in categorical:\n",
    "    df[cols] = encoder.fit_transform(df[cols])"
   ]
  },
  {
   "cell_type": "code",
   "execution_count": 5,
   "id": "e9f5899f-9a37-4661-8575-123398dcfbfc",
   "metadata": {},
   "outputs": [],
   "source": [
    "# Setting the X (features) and Y (label/output/target)\n",
    "X = df.drop(['Risk_Flag'], axis= 1)\n",
    "Y = df.Risk_Flag"
   ]
  },
  {
   "cell_type": "code",
   "execution_count": 6,
   "id": "e963b183-2975-4f1a-80b7-1d81271d58fc",
   "metadata": {},
   "outputs": [],
   "source": [
    "### Scaling the features using MinMaxScaler \n",
    "##### since most of the features has a uniform ditribution\n",
    "mm_scaler = preprocessing.MinMaxScaler()\n",
    "X_mm = mm_scaler.fit_transform(X)\n",
    "# Split the data into training and testing sets \n",
    "X_train, X_test, y_train, y_test = train_test_split(X_mm, Y, test_size = 0.4, random_state=42, stratify=Y) "
   ]
  },
  {
   "cell_type": "markdown",
   "id": "f463c273-acab-4c23-9003-f0562c9b9210",
   "metadata": {},
   "source": [
    "### Decision tree"
   ]
  },
  {
   "cell_type": "code",
   "execution_count": 7,
   "id": "0cc4f844-7c83-4f62-ae35-0915dde3be69",
   "metadata": {},
   "outputs": [
    {
     "name": "stdout",
     "output_type": "stream",
     "text": [
      "Training Accuracy: 1.000\n",
      "Test Accuracy: 0.861\n"
     ]
    }
   ],
   "source": [
    "# Initialize the decision tree classifier\n",
    "dct = DecisionTreeClassifier(random_state=42)\n",
    "# Fit the classifier to the training data\n",
    "dct.fit(X_train, y_train)\n",
    "# Make predictions on the testing data\n",
    "dtc_y_pred = dct.predict(X_test)\n",
    "print('Training Accuracy: {:.3f}'.format(dct.score(X_train, y_train)))\n",
    "print('Test Accuracy: {:.3f}'.format(dct.score(X_test, y_test)))"
   ]
  },
  {
   "cell_type": "markdown",
   "id": "7508c57e-7f4e-433b-8578-13929b3ef153",
   "metadata": {},
   "source": [
    "### Random Forest"
   ]
  },
  {
   "cell_type": "code",
   "execution_count": 8,
   "id": "5a9981e1-e1cf-4d2a-a5c5-4a3823b43da6",
   "metadata": {},
   "outputs": [
    {
     "name": "stdout",
     "output_type": "stream",
     "text": [
      "Training Accuracy : 1.000\n",
      "Test Accuracy : 0.907\n"
     ]
    }
   ],
   "source": [
    "# Initialize the random forest classifier with class weights\n",
    "RF_model = RandomForestClassifier(n_estimators=100, class_weight='balanced')\n",
    "# Train the model on the training data\n",
    "RF_model.fit(X_train, y_train)\n",
    "# Make predictions for test data\n",
    "RF_y_pred = RF_model.predict(X_test)\n",
    "print('Training Accuracy : {:.3f}'.format(RF_model.score(X_train, y_train)))\n",
    "print('Test Accuracy : {:.3f}'.format(RF_model.score(X_test, y_test)))"
   ]
  },
  {
   "cell_type": "markdown",
   "id": "a0034d06-655b-4ab9-b483-8dcbdf03d6ba",
   "metadata": {},
   "source": [
    "### Using undersampling \r\n",
    "##### since we have imbalance class labels and a very large dataset"
   ]
  },
  {
   "cell_type": "code",
   "execution_count": 9,
   "id": "2ad3bd66-5f14-4a71-87d7-0a7566947980",
   "metadata": {},
   "outputs": [
    {
     "name": "stdout",
     "output_type": "stream",
     "text": [
      "Training Accuracy: 1.000\n",
      "Test Accuracy: 0.751\n"
     ]
    }
   ],
   "source": [
    "# Initialize the random under sampler\n",
    "rus = RandomUnderSampler(random_state=42)\n",
    "# Resample the training data\n",
    "X_train_res, y_train_res = rus.fit_resample(X_train, y_train)\n",
    "### Decision tree with undersampled dataset\n",
    "# Fit the classifier to the undersampled training data\n",
    "dct.fit(X_train_res, y_train_res)\n",
    "# Make predictions on the testing data\n",
    "dtc_y_pred = dct.predict(X_test)\n",
    "print('Training Accuracy: {:.3f}'.format(dct.score(X_train_res, y_train_res)))\n",
    "print('Test Accuracy: {:.3f}'.format(dct.score(X_test, y_test)))"
   ]
  },
  {
   "cell_type": "markdown",
   "id": "5a6fced0-01a2-437a-bbe3-cbe9fb6e6b6d",
   "metadata": {},
   "source": [
    "##### as noticed the model is overfitting , use cross-validation to try to fix the issue."
   ]
  },
  {
   "cell_type": "code",
   "execution_count": 10,
   "id": "63dc8219-d1c5-484e-9eb2-2b904bc2251d",
   "metadata": {},
   "outputs": [
    {
     "name": "stdout",
     "output_type": "stream",
     "text": [
      "Cross-validation scores: [0.75241935 0.7516129  0.75295699 0.75537634 0.74408602 0.72177419\n",
      " 0.74589944 0.74697499 0.74885722 0.7058349 ]\n",
      "Mean score: 0.743\n"
     ]
    }
   ],
   "source": [
    "# Perform 10-fold cross-validation with undersampling\n",
    "scores = cross_val_score(dct, X_train_res, y_train_res, cv=10, scoring='accuracy')\n",
    "# Print the cross-validation scores\n",
    "print(f\"Cross-validation scores: {scores}\")\n",
    "print(f\"Mean score: {scores.mean():.3f}\")"
   ]
  },
  {
   "cell_type": "markdown",
   "id": "7e1303a2-fa21-495c-b05f-af1958b5a3c8",
   "metadata": {},
   "source": [
    "### Random forest with undersampled dataset"
   ]
  },
  {
   "cell_type": "code",
   "execution_count": 11,
   "id": "3da6a497-f748-4bdb-b3af-3b67778c5cd4",
   "metadata": {},
   "outputs": [
    {
     "name": "stdout",
     "output_type": "stream",
     "text": [
      "Training Accuracy : 1.000\n",
      "Test Accuracy : 0.809\n"
     ]
    }
   ],
   "source": [
    "# Train the model on the undersampled training data\n",
    "RF_model.fit(X_train_res, y_train_res)\n",
    "# Make predictions for test data\n",
    "RF_y_pred = RF_model.predict(X_test)\n",
    "print('Training Accuracy : {:.3f}'.format(RF_model.score(X_train_res, y_train_res)))\n",
    "print('Test Accuracy : {:.3f}'.format(RF_model.score(X_test, y_test)))"
   ]
  },
  {
   "cell_type": "code",
   "execution_count": 12,
   "id": "548b317f-e99d-40f5-8330-4135f8e08927",
   "metadata": {},
   "outputs": [
    {
     "name": "stdout",
     "output_type": "stream",
     "text": [
      "Cross-validation scores: [0.85133609 0.85735792 0.85491155 0.85773429 0.85152428 0.85431959\n",
      " 0.85582533]\n",
      "Mean score: 0.855\n"
     ]
    }
   ],
   "source": [
    "# Perform 7-fold cross-validation with undersampling\n",
    "scores = cross_val_score(RF_model, X_train_res, y_train_res, cv=7, scoring='accuracy')\n",
    "# Print the cross-validation scores\n",
    "print(f\"Cross-validation scores: {scores}\")\n",
    "print(f\"Mean score: {scores.mean():.3f}\")"
   ]
  },
  {
   "cell_type": "markdown",
   "id": "50009e61-ca5d-4c97-a9be-97fb78af174b",
   "metadata": {},
   "source": [
    "### Oversampling\n",
    "##### it helps with imbalance data"
   ]
  },
  {
   "cell_type": "code",
   "execution_count": 13,
   "id": "84a98a59-6c37-4f16-b8e0-25d0a522df81",
   "metadata": {},
   "outputs": [
    {
     "name": "stdout",
     "output_type": "stream",
     "text": [
      "Before oversampling:\n",
      " Risk_Flag\n",
      "0    221004\n",
      "1     30996\n",
      "Name: count, dtype: int64\n",
      "After oversampling:\n",
      " Risk_Flag\n",
      "0    132602\n",
      "1    132602\n",
      "Name: count, dtype: int64\n",
      "Shape of X_train_ovsam: (265204, 12)\n"
     ]
    }
   ],
   "source": [
    "# Instantiate the SMOTE algorithm\n",
    "smote = SMOTE(random_state=42)\n",
    "# Fit and apply SMOTE to the data\n",
    "X_train_ovsam, y_train_ovsam = smote.fit_resample(X_train, y_train)\n",
    "# Print the number of samples in each class before and after oversampling\n",
    "print(\"Before oversampling:\\n\", Y.value_counts())\n",
    "print(\"After oversampling:\\n\", y_train_ovsam.value_counts())\n",
    "print(\"Shape of X_train_ovsam:\", X_train_ovsam.shape)"
   ]
  },
  {
   "cell_type": "markdown",
   "id": "f8ba5fb7-6d40-4207-82a1-cec9088d67bd",
   "metadata": {},
   "source": [
    "### Decision tree on oversampled data"
   ]
  },
  {
   "cell_type": "code",
   "execution_count": 14,
   "id": "5edac76c-b0f4-4a53-be4f-45f00074a63e",
   "metadata": {},
   "outputs": [
    {
     "name": "stdout",
     "output_type": "stream",
     "text": [
      "Training Accuracy: 1.000\n",
      "Test Accuracy: 0.834\n"
     ]
    }
   ],
   "source": [
    "# Initialize the decision tree classifier\n",
    "dct = DecisionTreeClassifier(random_state=42)\n",
    "# Fit the classifier to the training data\n",
    "dct.fit(X_train_ovsam, y_train_ovsam)\n",
    "# Make predictions on the testing data\n",
    "dtc_y_pred = dct.predict(X_test)\n",
    "print('Training Accuracy: {:.3f}'.format(dct.score(X_train_ovsam, y_train_ovsam)))\n",
    "print('Test Accuracy: {:.3f}'.format(dct.score(X_test, y_test)))"
   ]
  },
  {
   "cell_type": "markdown",
   "id": "8bf1e627-3beb-426f-a9be-9772804fbbd0",
   "metadata": {},
   "source": [
    "### Random forest on oversampled data"
   ]
  },
  {
   "cell_type": "code",
   "execution_count": 15,
   "id": "21e20544-29a8-4f62-abec-23df2ee8c37f",
   "metadata": {},
   "outputs": [
    {
     "name": "stdout",
     "output_type": "stream",
     "text": [
      "Training Accuracy : 1.000\n",
      "Test Accuracy : 0.891\n"
     ]
    }
   ],
   "source": [
    "# Initialize the random forest classifier without class weights since the data is now balanced\n",
    "RF_model = RandomForestClassifier(n_estimators=100)\n",
    "# Train the model on the training data\n",
    "RF_model.fit(X_train_ovsam, y_train_ovsam)\n",
    "# Make predictions for test data\n",
    "RF_y_pred = RF_model.predict(X_test)\n",
    "print('Training Accuracy : {:.3f}'.format(RF_model.score(X_train_ovsam, y_train_ovsam)))\n",
    "print('Test Accuracy : {:.3f}'.format(RF_model.score(X_test, y_test)))"
   ]
  }
 ],
 "metadata": {
  "kernelspec": {
   "display_name": "Python 3 (ipykernel)",
   "language": "python",
   "name": "python3"
  },
  "language_info": {
   "codemirror_mode": {
    "name": "ipython",
    "version": 3
   },
   "file_extension": ".py",
   "mimetype": "text/x-python",
   "name": "python",
   "nbconvert_exporter": "python",
   "pygments_lexer": "ipython3",
   "version": "3.11.7"
  }
 },
 "nbformat": 4,
 "nbformat_minor": 5
}
